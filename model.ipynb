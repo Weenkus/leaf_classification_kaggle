{
 "cells": [
  {
   "cell_type": "code",
   "execution_count": 76,
   "metadata": {
    "collapsed": true
   },
   "outputs": [],
   "source": [
    "import pandas as pd\n",
    "import numpy as np\n",
    "import matplotlib.pyplot as plt\n",
    "\n",
    "%matplotlib inline"
   ]
  },
  {
   "cell_type": "markdown",
   "metadata": {},
   "source": [
    "# Load the dataset"
   ]
  },
  {
   "cell_type": "code",
   "execution_count": 77,
   "metadata": {
    "collapsed": true
   },
   "outputs": [],
   "source": [
    "train = pd.read_csv('dataset/train.csv')\n",
    "test = pd.read_csv('dataset/test.csv')"
   ]
  },
  {
   "cell_type": "code",
   "execution_count": 78,
   "metadata": {
    "collapsed": false
   },
   "outputs": [
    {
     "data": {
      "text/html": [
       "<div>\n",
       "<table border=\"1\" class=\"dataframe\">\n",
       "  <thead>\n",
       "    <tr style=\"text-align: right;\">\n",
       "      <th></th>\n",
       "      <th>id</th>\n",
       "      <th>species</th>\n",
       "      <th>margin1</th>\n",
       "      <th>margin2</th>\n",
       "      <th>margin3</th>\n",
       "      <th>margin4</th>\n",
       "      <th>margin5</th>\n",
       "      <th>margin6</th>\n",
       "      <th>margin7</th>\n",
       "      <th>margin8</th>\n",
       "      <th>...</th>\n",
       "      <th>texture55</th>\n",
       "      <th>texture56</th>\n",
       "      <th>texture57</th>\n",
       "      <th>texture58</th>\n",
       "      <th>texture59</th>\n",
       "      <th>texture60</th>\n",
       "      <th>texture61</th>\n",
       "      <th>texture62</th>\n",
       "      <th>texture63</th>\n",
       "      <th>texture64</th>\n",
       "    </tr>\n",
       "  </thead>\n",
       "  <tbody>\n",
       "    <tr>\n",
       "      <th>0</th>\n",
       "      <td>1</td>\n",
       "      <td>Acer_Opalus</td>\n",
       "      <td>0.007812</td>\n",
       "      <td>0.023438</td>\n",
       "      <td>0.023438</td>\n",
       "      <td>0.003906</td>\n",
       "      <td>0.011719</td>\n",
       "      <td>0.009766</td>\n",
       "      <td>0.027344</td>\n",
       "      <td>0.0</td>\n",
       "      <td>...</td>\n",
       "      <td>0.007812</td>\n",
       "      <td>0.0</td>\n",
       "      <td>0.002930</td>\n",
       "      <td>0.002930</td>\n",
       "      <td>0.035156</td>\n",
       "      <td>0.0</td>\n",
       "      <td>0.0</td>\n",
       "      <td>0.004883</td>\n",
       "      <td>0.000000</td>\n",
       "      <td>0.025391</td>\n",
       "    </tr>\n",
       "    <tr>\n",
       "      <th>1</th>\n",
       "      <td>2</td>\n",
       "      <td>Pterocarya_Stenoptera</td>\n",
       "      <td>0.005859</td>\n",
       "      <td>0.000000</td>\n",
       "      <td>0.031250</td>\n",
       "      <td>0.015625</td>\n",
       "      <td>0.025391</td>\n",
       "      <td>0.001953</td>\n",
       "      <td>0.019531</td>\n",
       "      <td>0.0</td>\n",
       "      <td>...</td>\n",
       "      <td>0.000977</td>\n",
       "      <td>0.0</td>\n",
       "      <td>0.000000</td>\n",
       "      <td>0.000977</td>\n",
       "      <td>0.023438</td>\n",
       "      <td>0.0</td>\n",
       "      <td>0.0</td>\n",
       "      <td>0.000977</td>\n",
       "      <td>0.039062</td>\n",
       "      <td>0.022461</td>\n",
       "    </tr>\n",
       "    <tr>\n",
       "      <th>2</th>\n",
       "      <td>3</td>\n",
       "      <td>Quercus_Hartwissiana</td>\n",
       "      <td>0.005859</td>\n",
       "      <td>0.009766</td>\n",
       "      <td>0.019531</td>\n",
       "      <td>0.007812</td>\n",
       "      <td>0.003906</td>\n",
       "      <td>0.005859</td>\n",
       "      <td>0.068359</td>\n",
       "      <td>0.0</td>\n",
       "      <td>...</td>\n",
       "      <td>0.154300</td>\n",
       "      <td>0.0</td>\n",
       "      <td>0.005859</td>\n",
       "      <td>0.000977</td>\n",
       "      <td>0.007812</td>\n",
       "      <td>0.0</td>\n",
       "      <td>0.0</td>\n",
       "      <td>0.000000</td>\n",
       "      <td>0.020508</td>\n",
       "      <td>0.002930</td>\n",
       "    </tr>\n",
       "  </tbody>\n",
       "</table>\n",
       "<p>3 rows × 194 columns</p>\n",
       "</div>"
      ],
      "text/plain": [
       "   id                species   margin1   margin2   margin3   margin4  \\\n",
       "0   1            Acer_Opalus  0.007812  0.023438  0.023438  0.003906   \n",
       "1   2  Pterocarya_Stenoptera  0.005859  0.000000  0.031250  0.015625   \n",
       "2   3   Quercus_Hartwissiana  0.005859  0.009766  0.019531  0.007812   \n",
       "\n",
       "    margin5   margin6   margin7  margin8    ...      texture55  texture56  \\\n",
       "0  0.011719  0.009766  0.027344      0.0    ...       0.007812        0.0   \n",
       "1  0.025391  0.001953  0.019531      0.0    ...       0.000977        0.0   \n",
       "2  0.003906  0.005859  0.068359      0.0    ...       0.154300        0.0   \n",
       "\n",
       "   texture57  texture58  texture59  texture60  texture61  texture62  \\\n",
       "0   0.002930   0.002930   0.035156        0.0        0.0   0.004883   \n",
       "1   0.000000   0.000977   0.023438        0.0        0.0   0.000977   \n",
       "2   0.005859   0.000977   0.007812        0.0        0.0   0.000000   \n",
       "\n",
       "   texture63  texture64  \n",
       "0   0.000000   0.025391  \n",
       "1   0.039062   0.022461  \n",
       "2   0.020508   0.002930  \n",
       "\n",
       "[3 rows x 194 columns]"
      ]
     },
     "execution_count": 78,
     "metadata": {},
     "output_type": "execute_result"
    }
   ],
   "source": [
    "train.head(3)"
   ]
  },
  {
   "cell_type": "code",
   "execution_count": 79,
   "metadata": {
    "collapsed": false
   },
   "outputs": [
    {
     "name": "stdout",
     "output_type": "stream",
     "text": [
      "Index(['id', 'species', 'margin1', 'margin2', 'margin3', 'margin4', 'margin5',\n",
      "       'margin6', 'margin7', 'margin8',\n",
      "       ...\n",
      "       'texture55', 'texture56', 'texture57', 'texture58', 'texture59',\n",
      "       'texture60', 'texture61', 'texture62', 'texture63', 'texture64'],\n",
      "      dtype='object', length=194)\n",
      "Index(['id', 'margin1', 'margin2', 'margin3', 'margin4', 'margin5', 'margin6',\n",
      "       'margin7', 'margin8', 'margin9',\n",
      "       ...\n",
      "       'texture55', 'texture56', 'texture57', 'texture58', 'texture59',\n",
      "       'texture60', 'texture61', 'texture62', 'texture63', 'texture64'],\n",
      "      dtype='object', length=193)\n"
     ]
    }
   ],
   "source": [
    "print (train.columns)\n",
    "print (test.columns)"
   ]
  },
  {
   "cell_type": "markdown",
   "metadata": {},
   "source": [
    "# Dataset processing"
   ]
  },
  {
   "cell_type": "code",
   "execution_count": 80,
   "metadata": {
    "collapsed": false
   },
   "outputs": [],
   "source": [
    "from sklearn.preprocessing import LabelEncoder\n",
    "from sklearn.cross_validation import train_test_split"
   ]
  },
  {
   "cell_type": "code",
   "execution_count": 81,
   "metadata": {
    "collapsed": false
   },
   "outputs": [],
   "source": [
    "def encode(train, test):\n",
    "    le = LabelEncoder().fit(train.species) \n",
    "    labels = le.transform(train.species)           # encode species strings\n",
    "    classes = list(le.classes_)                    # save column names for submission\n",
    "    test_ids = test.id                             # save test ids for submission\n",
    "    \n",
    "    train = train.drop(['species', 'id'], axis=1)  \n",
    "    test = test.drop(['id'], axis=1)\n",
    "    \n",
    "    return train, labels, test, test_ids, classes\n",
    "\n",
    "train, labels, test, test_ids, classes = encode(train, test)"
   ]
  },
  {
   "cell_type": "code",
   "execution_count": 82,
   "metadata": {
    "collapsed": false
   },
   "outputs": [
    {
     "name": "stdout",
     "output_type": "stream",
     "text": [
      "792 198\n"
     ]
    }
   ],
   "source": [
    "X_train, X_test, y_train, y_test = train_test_split(train, labels, test_size=0.2, random_state=42)\n",
    "print (len(y_train), len(y_test))"
   ]
  },
  {
   "cell_type": "markdown",
   "metadata": {},
   "source": [
    "# Models"
   ]
  },
  {
   "cell_type": "code",
   "execution_count": 128,
   "metadata": {
    "collapsed": false
   },
   "outputs": [],
   "source": [
    "from sklearn.metrics import accuracy_score, log_loss, f1_score, precision_score, recall_score\n",
    "\n",
    "from sklearn.neighbors import KNeighborsClassifier\n",
    "from sklearn.svm import SVC, LinearSVC, NuSVC\n",
    "from sklearn.tree import DecisionTreeClassifier\n",
    "from sklearn.ensemble import RandomForestClassifier, AdaBoostClassifier, GradientBoostingClassifier\n",
    "from sklearn.naive_bayes import GaussianNB\n",
    "from sklearn.discriminant_analysis import LinearDiscriminantAnalysis\n",
    "from sklearn.discriminant_analysis import QuadraticDiscriminantAnalysis\n",
    "\n",
    "from sklearn.calibration import CalibratedClassifierCV"
   ]
  },
  {
   "cell_type": "code",
   "execution_count": 84,
   "metadata": {
    "collapsed": true
   },
   "outputs": [],
   "source": [
    "def print_performance(y_true, X_test, model):\n",
    "    print ('Acc:', accuracy_score(y_true, model.predict(X_test)))\n",
    "    #print ('Log loss:', log_loss(y_true, model.predict_proba(X_test)))"
   ]
  },
  {
   "cell_type": "code",
   "execution_count": 85,
   "metadata": {
    "collapsed": true
   },
   "outputs": [],
   "source": [
    "X_train, X_val, y_train, y_val = train_test_split(X_train, y_train, test_size=0.2, random_state=42)"
   ]
  },
  {
   "cell_type": "code",
   "execution_count": 86,
   "metadata": {
    "collapsed": false
   },
   "outputs": [
    {
     "name": "stdout",
     "output_type": "stream",
     "text": [
      "Acc: 0.937106918239\n"
     ]
    }
   ],
   "source": [
    "model = RandomForestClassifier(n_estimators=500, random_state=42, n_jobs=8, criterion='entropy', max_features=5)\n",
    "model.fit(X_train, y_train)\n",
    "print_performance(y_val, X_val, model)    "
   ]
  },
  {
   "cell_type": "code",
   "execution_count": 136,
   "metadata": {
    "collapsed": false
   },
   "outputs": [
    {
     "name": "stderr",
     "output_type": "stream",
     "text": [
      "/home/weenkus/anaconda3/envs/py35/lib/python3.5/site-packages/sklearn/discriminant_analysis.py:453: UserWarning: The priors do not sum to 1. Renormalizing\n",
      "  UserWarning)\n"
     ]
    },
    {
     "name": "stdout",
     "output_type": "stream",
     "text": [
      "Acc: 0.930817610063\n",
      "Acc: 0.0314465408805\n"
     ]
    },
    {
     "name": "stderr",
     "output_type": "stream",
     "text": [
      "/home/weenkus/anaconda3/envs/py35/lib/python3.5/site-packages/sklearn/discriminant_analysis.py:453: UserWarning: The priors do not sum to 1. Renormalizing\n",
      "  UserWarning)\n"
     ]
    }
   ],
   "source": [
    "model = LinearDiscriminantAnalysis(solver='lsqr')\n",
    "model.fit(X_train, y_train)\n",
    "print_performance(y_val, X_val, model)   \n",
    "\n",
    "model = CalibratedClassifierCV(model, cv=3, method='isotonic')\n",
    "model.fit(X_train, y_train)\n",
    "print_performance(y_val, X_val, model)   "
   ]
  },
  {
   "cell_type": "code",
   "execution_count": 195,
   "metadata": {
    "collapsed": false
   },
   "outputs": [
    {
     "name": "stderr",
     "output_type": "stream",
     "text": [
      "/home/weenkus/anaconda3/envs/py35/lib/python3.5/site-packages/sklearn/discriminant_analysis.py:387: UserWarning: Variables are collinear.\n",
      "  warnings.warn(\"Variables are collinear.\")\n",
      "/home/weenkus/anaconda3/envs/py35/lib/python3.5/site-packages/sklearn/discriminant_analysis.py:387: UserWarning: Variables are collinear.\n",
      "  warnings.warn(\"Variables are collinear.\")\n",
      "/home/weenkus/anaconda3/envs/py35/lib/python3.5/site-packages/sklearn/discriminant_analysis.py:453: UserWarning: The priors do not sum to 1. Renormalizing\n",
      "  UserWarning)\n",
      "/home/weenkus/anaconda3/envs/py35/lib/python3.5/site-packages/sklearn/discriminant_analysis.py:387: UserWarning: Variables are collinear.\n",
      "  warnings.warn(\"Variables are collinear.\")\n",
      "/home/weenkus/anaconda3/envs/py35/lib/python3.5/site-packages/sklearn/discriminant_analysis.py:453: UserWarning: The priors do not sum to 1. Renormalizing\n",
      "  UserWarning)\n"
     ]
    },
    {
     "name": "stdout",
     "output_type": "stream",
     "text": [
      "Acc: 0.981132075472\n"
     ]
    }
   ],
   "source": [
    "from sklearn.ensemble.voting_classifier import VotingClassifier\n",
    "\n",
    "m1 = RandomForestClassifier(n_estimators=30, random_state=42, n_jobs=8, criterion='entropy', max_features=5)\n",
    "m2 = LinearDiscriminantAnalysis()\n",
    "m3 = KNeighborsClassifier(6)\n",
    "m4 = RandomForestClassifier(n_estimators=500, n_jobs=8)\n",
    "m5 = LinearDiscriminantAnalysis(solver='lsqr', tol=2)\n",
    "\n",
    "model = VotingClassifier(\n",
    "    estimators=[('rf', m1), ('lda', m2), ('KNN', m3), ('rf2', m4), ('lda2', m5)], voting='soft'\n",
    ")\n",
    "model = CalibratedClassifierCV(model, cv=3, method='sigmoid')\n",
    "model.fit(X_train, y_train)\n",
    "print_performance(y_val, X_val, model)    "
   ]
  },
  {
   "cell_type": "markdown",
   "metadata": {},
   "source": [
    "# Submission"
   ]
  },
  {
   "cell_type": "code",
   "execution_count": 196,
   "metadata": {
    "collapsed": false
   },
   "outputs": [
    {
     "name": "stderr",
     "output_type": "stream",
     "text": [
      "/home/weenkus/anaconda3/envs/py35/lib/python3.5/site-packages/sklearn/discriminant_analysis.py:453: UserWarning: The priors do not sum to 1. Renormalizing\n",
      "  UserWarning)\n",
      "/home/weenkus/anaconda3/envs/py35/lib/python3.5/site-packages/sklearn/discriminant_analysis.py:387: UserWarning: Variables are collinear.\n",
      "  warnings.warn(\"Variables are collinear.\")\n",
      "/home/weenkus/anaconda3/envs/py35/lib/python3.5/site-packages/sklearn/discriminant_analysis.py:453: UserWarning: The priors do not sum to 1. Renormalizing\n",
      "  UserWarning)\n",
      "/home/weenkus/anaconda3/envs/py35/lib/python3.5/site-packages/sklearn/discriminant_analysis.py:453: UserWarning: The priors do not sum to 1. Renormalizing\n",
      "  UserWarning)\n",
      "/home/weenkus/anaconda3/envs/py35/lib/python3.5/site-packages/sklearn/discriminant_analysis.py:387: UserWarning: Variables are collinear.\n",
      "  warnings.warn(\"Variables are collinear.\")\n",
      "/home/weenkus/anaconda3/envs/py35/lib/python3.5/site-packages/sklearn/discriminant_analysis.py:453: UserWarning: The priors do not sum to 1. Renormalizing\n",
      "  UserWarning)\n",
      "/home/weenkus/anaconda3/envs/py35/lib/python3.5/site-packages/sklearn/discriminant_analysis.py:453: UserWarning: The priors do not sum to 1. Renormalizing\n",
      "  UserWarning)\n",
      "/home/weenkus/anaconda3/envs/py35/lib/python3.5/site-packages/sklearn/discriminant_analysis.py:387: UserWarning: Variables are collinear.\n",
      "  warnings.warn(\"Variables are collinear.\")\n",
      "/home/weenkus/anaconda3/envs/py35/lib/python3.5/site-packages/sklearn/discriminant_analysis.py:453: UserWarning: The priors do not sum to 1. Renormalizing\n",
      "  UserWarning)\n"
     ]
    },
    {
     "data": {
      "text/html": [
       "<div>\n",
       "<table border=\"1\" class=\"dataframe\">\n",
       "  <thead>\n",
       "    <tr style=\"text-align: right;\">\n",
       "      <th></th>\n",
       "      <th>id</th>\n",
       "      <th>Acer_Capillipes</th>\n",
       "      <th>Acer_Circinatum</th>\n",
       "      <th>Acer_Mono</th>\n",
       "      <th>Acer_Opalus</th>\n",
       "      <th>Acer_Palmatum</th>\n",
       "      <th>Acer_Pictum</th>\n",
       "      <th>Acer_Platanoids</th>\n",
       "      <th>Acer_Rubrum</th>\n",
       "      <th>Acer_Rufinerve</th>\n",
       "      <th>...</th>\n",
       "      <th>Salix_Fragilis</th>\n",
       "      <th>Salix_Intergra</th>\n",
       "      <th>Sorbus_Aria</th>\n",
       "      <th>Tilia_Oliveri</th>\n",
       "      <th>Tilia_Platyphyllos</th>\n",
       "      <th>Tilia_Tomentosa</th>\n",
       "      <th>Ulmus_Bergmanniana</th>\n",
       "      <th>Viburnum_Tinus</th>\n",
       "      <th>Viburnum_x_Rhytidophylloides</th>\n",
       "      <th>Zelkova_Serrata</th>\n",
       "    </tr>\n",
       "  </thead>\n",
       "  <tbody>\n",
       "    <tr>\n",
       "      <th>589</th>\n",
       "      <td>1576</td>\n",
       "      <td>0.002841</td>\n",
       "      <td>0.663642</td>\n",
       "      <td>0.003063</td>\n",
       "      <td>0.002671</td>\n",
       "      <td>0.003950</td>\n",
       "      <td>0.003032</td>\n",
       "      <td>0.002909</td>\n",
       "      <td>0.002871</td>\n",
       "      <td>0.033758</td>\n",
       "      <td>...</td>\n",
       "      <td>0.003087</td>\n",
       "      <td>0.002878</td>\n",
       "      <td>0.003021</td>\n",
       "      <td>0.002977</td>\n",
       "      <td>0.002809</td>\n",
       "      <td>0.003148</td>\n",
       "      <td>0.005181</td>\n",
       "      <td>0.002671</td>\n",
       "      <td>0.002753</td>\n",
       "      <td>0.003562</td>\n",
       "    </tr>\n",
       "    <tr>\n",
       "      <th>590</th>\n",
       "      <td>1577</td>\n",
       "      <td>0.003349</td>\n",
       "      <td>0.003877</td>\n",
       "      <td>0.003550</td>\n",
       "      <td>0.003426</td>\n",
       "      <td>0.003377</td>\n",
       "      <td>0.003432</td>\n",
       "      <td>0.003407</td>\n",
       "      <td>0.004781</td>\n",
       "      <td>0.005919</td>\n",
       "      <td>...</td>\n",
       "      <td>0.003586</td>\n",
       "      <td>0.003418</td>\n",
       "      <td>0.003793</td>\n",
       "      <td>0.003692</td>\n",
       "      <td>0.005247</td>\n",
       "      <td>0.008564</td>\n",
       "      <td>0.003959</td>\n",
       "      <td>0.003161</td>\n",
       "      <td>0.003257</td>\n",
       "      <td>0.004564</td>\n",
       "    </tr>\n",
       "    <tr>\n",
       "      <th>591</th>\n",
       "      <td>1579</td>\n",
       "      <td>0.002688</td>\n",
       "      <td>0.003292</td>\n",
       "      <td>0.003042</td>\n",
       "      <td>0.002659</td>\n",
       "      <td>0.003545</td>\n",
       "      <td>0.003231</td>\n",
       "      <td>0.002912</td>\n",
       "      <td>0.002715</td>\n",
       "      <td>0.002533</td>\n",
       "      <td>...</td>\n",
       "      <td>0.003070</td>\n",
       "      <td>0.002881</td>\n",
       "      <td>0.002948</td>\n",
       "      <td>0.002903</td>\n",
       "      <td>0.002997</td>\n",
       "      <td>0.002777</td>\n",
       "      <td>0.003091</td>\n",
       "      <td>0.002714</td>\n",
       "      <td>0.002765</td>\n",
       "      <td>0.003414</td>\n",
       "    </tr>\n",
       "    <tr>\n",
       "      <th>592</th>\n",
       "      <td>1580</td>\n",
       "      <td>0.002388</td>\n",
       "      <td>0.002659</td>\n",
       "      <td>0.002966</td>\n",
       "      <td>0.002659</td>\n",
       "      <td>0.002563</td>\n",
       "      <td>0.002566</td>\n",
       "      <td>0.002770</td>\n",
       "      <td>0.002406</td>\n",
       "      <td>0.002252</td>\n",
       "      <td>...</td>\n",
       "      <td>0.003118</td>\n",
       "      <td>0.004231</td>\n",
       "      <td>0.002539</td>\n",
       "      <td>0.002585</td>\n",
       "      <td>0.002490</td>\n",
       "      <td>0.002589</td>\n",
       "      <td>0.002816</td>\n",
       "      <td>0.003056</td>\n",
       "      <td>0.002430</td>\n",
       "      <td>0.003021</td>\n",
       "    </tr>\n",
       "    <tr>\n",
       "      <th>593</th>\n",
       "      <td>1583</td>\n",
       "      <td>0.002996</td>\n",
       "      <td>0.003453</td>\n",
       "      <td>0.003421</td>\n",
       "      <td>0.003033</td>\n",
       "      <td>0.003239</td>\n",
       "      <td>0.003340</td>\n",
       "      <td>0.003303</td>\n",
       "      <td>0.003178</td>\n",
       "      <td>0.002883</td>\n",
       "      <td>...</td>\n",
       "      <td>0.003407</td>\n",
       "      <td>0.003283</td>\n",
       "      <td>0.003240</td>\n",
       "      <td>0.003279</td>\n",
       "      <td>0.003151</td>\n",
       "      <td>0.003163</td>\n",
       "      <td>0.003571</td>\n",
       "      <td>0.003143</td>\n",
       "      <td>0.003148</td>\n",
       "      <td>0.004260</td>\n",
       "    </tr>\n",
       "  </tbody>\n",
       "</table>\n",
       "<p>5 rows × 100 columns</p>\n",
       "</div>"
      ],
      "text/plain": [
       "       id  Acer_Capillipes  Acer_Circinatum  Acer_Mono  Acer_Opalus  \\\n",
       "589  1576         0.002841         0.663642   0.003063     0.002671   \n",
       "590  1577         0.003349         0.003877   0.003550     0.003426   \n",
       "591  1579         0.002688         0.003292   0.003042     0.002659   \n",
       "592  1580         0.002388         0.002659   0.002966     0.002659   \n",
       "593  1583         0.002996         0.003453   0.003421     0.003033   \n",
       "\n",
       "     Acer_Palmatum  Acer_Pictum  Acer_Platanoids  Acer_Rubrum  Acer_Rufinerve  \\\n",
       "589       0.003950     0.003032         0.002909     0.002871        0.033758   \n",
       "590       0.003377     0.003432         0.003407     0.004781        0.005919   \n",
       "591       0.003545     0.003231         0.002912     0.002715        0.002533   \n",
       "592       0.002563     0.002566         0.002770     0.002406        0.002252   \n",
       "593       0.003239     0.003340         0.003303     0.003178        0.002883   \n",
       "\n",
       "          ...         Salix_Fragilis  Salix_Intergra  Sorbus_Aria  \\\n",
       "589       ...               0.003087        0.002878     0.003021   \n",
       "590       ...               0.003586        0.003418     0.003793   \n",
       "591       ...               0.003070        0.002881     0.002948   \n",
       "592       ...               0.003118        0.004231     0.002539   \n",
       "593       ...               0.003407        0.003283     0.003240   \n",
       "\n",
       "     Tilia_Oliveri  Tilia_Platyphyllos  Tilia_Tomentosa  Ulmus_Bergmanniana  \\\n",
       "589       0.002977            0.002809         0.003148            0.005181   \n",
       "590       0.003692            0.005247         0.008564            0.003959   \n",
       "591       0.002903            0.002997         0.002777            0.003091   \n",
       "592       0.002585            0.002490         0.002589            0.002816   \n",
       "593       0.003279            0.003151         0.003163            0.003571   \n",
       "\n",
       "     Viburnum_Tinus  Viburnum_x_Rhytidophylloides  Zelkova_Serrata  \n",
       "589        0.002671                      0.002753         0.003562  \n",
       "590        0.003161                      0.003257         0.004564  \n",
       "591        0.002714                      0.002765         0.003414  \n",
       "592        0.003056                      0.002430         0.003021  \n",
       "593        0.003143                      0.003148         0.004260  \n",
       "\n",
       "[5 rows x 100 columns]"
      ]
     },
     "execution_count": 196,
     "metadata": {},
     "output_type": "execute_result"
    }
   ],
   "source": [
    "# Predict Test Set\n",
    "model.fit(train, labels)\n",
    "predictions = model.predict_proba(test)\n",
    "\n",
    "# Format DataFrame\n",
    "submission = pd.DataFrame(predictions, columns=classes)\n",
    "submission.insert(0, 'id', test_ids)\n",
    "submission.reset_index()\n",
    "\n",
    "# Export Submission\n",
    "submission.to_csv('submission.csv', index = False)\n",
    "submission.tail()"
   ]
  },
  {
   "cell_type": "code",
   "execution_count": null,
   "metadata": {
    "collapsed": true
   },
   "outputs": [],
   "source": []
  }
 ],
 "metadata": {
  "anaconda-cloud": {},
  "kernelspec": {
   "display_name": "Python [default]",
   "language": "python",
   "name": "python3"
  },
  "language_info": {
   "codemirror_mode": {
    "name": "ipython",
    "version": 3
   },
   "file_extension": ".py",
   "mimetype": "text/x-python",
   "name": "python",
   "nbconvert_exporter": "python",
   "pygments_lexer": "ipython3",
   "version": "3.5.2"
  }
 },
 "nbformat": 4,
 "nbformat_minor": 0
}
